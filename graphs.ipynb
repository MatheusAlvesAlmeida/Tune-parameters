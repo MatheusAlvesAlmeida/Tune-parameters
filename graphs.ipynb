{
 "cells": [
  {
   "cell_type": "code",
   "execution_count": 1,
   "id": "0c1bc56c",
   "metadata": {},
   "outputs": [],
   "source": [
    "import pandas as pd\n",
    "import numpy as np\n",
    "import matplotlib.pyplot as plt\n",
    "import matplotlib.cbook as cbook"
   ]
  },
  {
   "cell_type": "code",
   "execution_count": 12,
   "id": "188fa8d0",
   "metadata": {},
   "outputs": [],
   "source": [
    "read_file = pd.read_csv(\"demofile10.txt\")\n",
    "read_file.to_csv(\"/home/gabriel/Documents/CIn/Bioinspirada/Tune-parameters/demofile10.csv\")"
   ]
  },
  {
   "cell_type": "code",
   "execution_count": 13,
   "id": "03d47ccc",
   "metadata": {},
   "outputs": [],
   "source": [
    "df = pd.read_csv('demofile.csv')['0.797752808988764'].values.tolist()\n",
    "df2 = pd.read_csv('demofile2.csv')['0.8239700374531835'].values.tolist()\n",
    "df3 = pd.read_csv('demofile3.csv')['0.7340823970037453'].values.tolist()\n",
    "df4 = pd.read_csv('demofile4.csv')['0.7790262172284644'].values.tolist()\n",
    "df5 = pd.read_csv('demofile5.csv')['0.8014981273408239'].values.tolist()\n",
    "df6 = pd.read_csv('demofile6.csv')['0.797752808988764'].values.tolist()\n",
    "df7 = pd.read_csv('demofile7.csv')['0.7902621722846442'].values.tolist()\n",
    "df8 = pd.read_csv('demofile8.csv')['0.8164794007490637'].values.tolist()\n",
    "df9 = pd.read_csv('demofile9.csv')['0.8089887640449438'].values.tolist()\n",
    "df10 = pd.read_csv('demofile10.csv')['0.7677902621722846'].values.tolist()"
   ]
  },
  {
   "cell_type": "code",
   "execution_count": 14,
   "id": "0e061999",
   "metadata": {},
   "outputs": [],
   "source": [
    "#average of all values of df\n",
    "avg = sum(df)/len(df)\n",
    "avg2 = sum(df2)/len(df2)\n",
    "avg3 = sum(df3)/len(df3)\n",
    "avg4 = sum(df4)/len(df4)\n",
    "avg5 = sum(df5)/len(df5)\n",
    "avg6 = sum(df6)/len(df6)\n",
    "avg7 = sum(df7)/len(df7)\n",
    "avg8 = sum(df8)/len(df8)\n",
    "avg9 = sum(df9)/len(df9)\n",
    "avg10 = sum(df10)/len(df10)\n"
   ]
  },
  {
   "cell_type": "code",
   "execution_count": 15,
   "id": "bcadd0c5",
   "metadata": {},
   "outputs": [],
   "source": [
    "#standard deviation of all values of df\n",
    "std = np.std(df)\n",
    "std2 = np.std(df2)\n",
    "std3 = np.std(df3)\n",
    "std4 = np.std(df4)\n",
    "std5 = np.std(df5)\n",
    "std6 = np.std(df6)\n",
    "std7 = np.std(df7)\n",
    "std8 = np.std(df8)\n",
    "std9 = np.std(df9)\n",
    "std10 = np.std(df10)"
   ]
  },
  {
   "cell_type": "code",
   "execution_count": 16,
   "id": "93af9226",
   "metadata": {},
   "outputs": [
    {
     "data": {
      "text/plain": [
       "Text(0.5, 1.0, 'Fitness médio por geração')"
      ]
     },
     "execution_count": 16,
     "metadata": {},
     "output_type": "execute_result"
    },
    {
     "data": {
      "image/png": "[encoded data removed]",
      "text/plain": [
       "<Figure size 640x480 with 1 Axes>"
      ]
     },
     "metadata": {},
     "output_type": "display_data"
    }
   ],
   "source": [
    "#plot the bar code graph with the average and standard deviation\n",
    "plt.bar(0, avg, align='center', capsize=10)\n",
    "plt.bar(1, avg2, align='center', capsize=10)\n",
    "plt.bar(2, avg3, align='center', capsize=10)\n",
    "plt.bar(3, avg4, align='center', capsize=10)\n",
    "plt.bar(4, avg5, align='center', capsize=10)\n",
    "plt.bar(5, avg6, align='center', capsize=10)\n",
    "plt.bar(6, avg7, align='center', capsize=10)\n",
    "plt.bar(7, avg8, align='center', capsize=10)\n",
    "plt.bar(8, avg9, align='center', capsize=10)\n",
    "plt.bar(9, avg10, align='center', capsize=10)\n",
    "plt.xticks([0,1,2,3,4,5,6,7,8,9], ['1', '2', '3', '4', '5', '6', '7', '8', '9', '10'])\n",
    "plt.ylabel('Fitness')\n",
    "plt.title('Fitness médio por geração')\n"
   ]
  }
 ],
 "metadata": {
  "kernelspec": {
   "display_name": "Python 3.8.10 64-bit",
   "language": "python",
   "name": "python3"
  },
  "language_info": {
   "codemirror_mode": {
    "name": "ipython",
    "version": 3
   },
   "file_extension": ".py",
   "mimetype": "text/x-python",
   "name": "python",
   "nbconvert_exporter": "python",
   "pygments_lexer": "ipython3",
   "version": "3.8.10"
  },
  "vscode": {
   "interpreter": {
    "hash": "916dbcbb3f70747c44a77c7bcd40155683ae19c65e1c03b4aa3499c5328201f1"
   }
  }
 },
 "nbformat": 4,
 "nbformat_minor": 5
}
